{
 "cells": [
  {
   "cell_type": "code",
   "execution_count": 1,
   "metadata": {},
   "outputs": [
    {
     "name": "stdout",
     "output_type": "stream",
     "text": [
      "Hip Hip Hooray Katja\n",
      "Hip Hip Hooray Katja\n",
      "Hip Hip Hooray Katja\n"
     ]
    }
   ],
   "source": [
    "def three_cheers(name):\n",
    "    '''give cheers'''\n",
    "    for i in range(3):\n",
    "        print(\"Hip Hip Hooray\", name)\n",
    "\n",
    "\n",
    "three_cheers(\"Katja\")"
   ]
  },
  {
   "cell_type": "code",
   "execution_count": 3,
   "metadata": {},
   "outputs": [
    {
     "data": {
      "text/plain": [
       "7"
      ]
     },
     "execution_count": 3,
     "metadata": {},
     "output_type": "execute_result"
    }
   ],
   "source": [
    "def total(num1,num2):\n",
    "    result = int(num1 + num2)\n",
    "    return result\n",
    "\n",
    "check = total(2,3)\n",
    "check + 2"
   ]
  },
  {
   "cell_type": "code",
   "execution_count": 4,
   "metadata": {},
   "outputs": [
    {
     "data": {
      "text/plain": [
       "4.0"
      ]
     },
     "execution_count": 4,
     "metadata": {},
     "output_type": "execute_result"
    }
   ],
   "source": [
    "import math\n",
    "def equation(a):\n",
    "    return math.sqrt(a)+2\n",
    "\n",
    "equation(4)"
   ]
  },
  {
   "cell_type": "code",
   "execution_count": 6,
   "metadata": {},
   "outputs": [
    {
     "ename": "SyntaxError",
     "evalue": "invalid syntax (3645752279.py, line 2)",
     "output_type": "error",
     "traceback": [
      "\u001b[0;36m  Cell \u001b[0;32mIn[6], line 2\u001b[0;36m\u001b[0m\n\u001b[0;31m    return x = num1+num2\u001b[0m\n\u001b[0m             ^\u001b[0m\n\u001b[0;31mSyntaxError\u001b[0m\u001b[0;31m:\u001b[0m invalid syntax\n"
     ]
    }
   ],
   "source": [
    "def total2(num1,num2):\n",
    "    return x = num1+num2"
   ]
  },
  {
   "cell_type": "code",
   "execution_count": null,
   "metadata": {},
   "outputs": [],
   "source": [
    "x = [1,2]\n",
    "y = [2]\n",
    "z =[]\n",
    "\n",
    "try:\n",
    "    for i in x:\n",
    "        if int(i):\n",
    "            i = i+y[0]\n",
    "            z.append(i)\n",
    "# value error \n",
    "print(z)"
   ]
  },
  {
   "cell_type": "code",
   "execution_count": null,
   "metadata": {},
   "outputs": [],
   "source": [
    "int main ()\n",
    "{\n",
    "    int a = 2;\n",
    "    int b = 3;\n",
    "    int c = a + b:\n",
    "    print(\"Sum\")\n",
    "}"
   ]
  }
 ],
 "metadata": {
  "kernelspec": {
   "display_name": "Python 3",
   "language": "python",
   "name": "python3"
  },
  "language_info": {
   "codemirror_mode": {
    "name": "ipython",
    "version": 3
   },
   "file_extension": ".py",
   "mimetype": "text/x-python",
   "name": "python",
   "nbconvert_exporter": "python",
   "pygments_lexer": "ipython3",
   "version": "3.9.13"
  }
 },
 "nbformat": 4,
 "nbformat_minor": 2
}
