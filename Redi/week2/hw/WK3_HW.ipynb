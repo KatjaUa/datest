{
 "cells": [
  {
   "cell_type": "markdown",
   "id": "d44666e4-6b58-4bb6-997a-233777c6331f",
   "metadata": {},
   "source": [
    "# Functions and Modules"
   ]
  },
  {
   "cell_type": "markdown",
   "id": "d59f2368-a9f0-46e5-b442-f8243ebffa8f",
   "metadata": {},
   "source": [
    "## 1. Write a function that converts Celcius to Fahrenheit\n",
    "\n",
    "*Hint:* Farenheit = Celcius_value *(9/5)+32\n",
    "\n",
    "Celcius = (Farenheit_value − 32) * 5/9"
   ]
  },
  {
   "cell_type": "code",
   "execution_count": 5,
   "id": "975e0494",
   "metadata": {},
   "outputs": [
    {
     "name": "stdout",
     "output_type": "stream",
     "text": [
      "16°C is 60.80°F\n",
      "91°F is 32.78°C\n"
     ]
    }
   ],
   "source": [
    "def celsius_to_fahrenheit(celsius):\n",
    "    return celsius * (9/5) + 32\n",
    "\n",
    "def fahrenheit_to_celsius(fahrenheit):\n",
    "    return (fahrenheit - 32) * 5/9\n",
    "\n",
    "c = 16\n",
    "f = celsius_to_fahrenheit(c)\n",
    "print(f\"{c}°C is {f:.2f}°F\")\n",
    "\n",
    "f =91\n",
    "c = fahrenheit_to_celsius(f)\n",
    "print(f\"{f}°F is {c:.2f}°C\")\n"
   ]
  },
  {
   "cell_type": "code",
   "execution_count": 3,
   "id": "521ddc62-4384-4d37-9ec9-7524e369d881",
   "metadata": {
    "scrolled": true
   },
   "outputs": [
    {
     "name": "stdout",
     "output_type": "stream",
     "text": [
      "[2, 3]\n",
      "None\n"
     ]
    }
   ],
   "source": [
    "x = [1,2,3,4]\n",
    "print(x[1:-1])\n",
    "y = x.reverse()\n",
    "print(y)"
   ]
  },
  {
   "cell_type": "markdown",
   "id": "6d10e909-1b0c-42c5-a0e5-9d9d28d9fecb",
   "metadata": {},
   "source": [
    "## <font color='red'>2. Check if a string is a Palindrome\n",
    "*Ex:* the word 'madam' is a palindrome "
   ]
  },
  {
   "cell_type": "code",
   "execution_count": 1,
   "id": "282a976e-a48b-4e93-990c-0e0beb01ba98",
   "metadata": {},
   "outputs": [
    {
     "name": "stdout",
     "output_type": "stream",
     "text": [
      "yes\n"
     ]
    },
    {
     "data": {
      "text/plain": [
       "[4, 3, 2]"
      ]
     },
     "execution_count": 1,
     "metadata": {},
     "output_type": "execute_result"
    }
   ],
   "source": [
    "x = str(input('Enter string: '))\n",
    "if x[::-1] == x:\n",
    "    print('yes')\n",
    "else:\n",
    "    print('no')\n",
    "x =[1,2,3,4]\n",
    "x[1:][::-1]"
   ]
  },
  {
   "cell_type": "markdown",
   "id": "f25877d0-954b-492a-8eae-0f8c916fa11c",
   "metadata": {},
   "source": [
    "## 3. Write a function to find the maximum of three numbers, use the max function"
   ]
  },
  {
   "cell_type": "code",
   "execution_count": null,
   "id": "28a77daf-7823-49d6-8e2c-293d668949fc",
   "metadata": {},
   "outputs": [
    {
     "name": "stdout",
     "output_type": "stream",
     "text": [
      "Максимальне число: 22\n"
     ]
    }
   ],
   "source": [
    "def find_max(a, b, c):\n",
    "    return max(a, b, c)\n",
    "\n",
    "num1 = 2\n",
    "num2 = 22\n",
    "num3 = 12\n",
    "\n",
    "result = find_max(num1, num2, num3)\n",
    "print(\"Max is:\", result)\n",
    "\n",
    "\n",
    "\n"
   ]
  },
  {
   "cell_type": "markdown",
   "id": "e6808465-92da-4c4a-b4c6-352541373f07",
   "metadata": {},
   "source": [
    "## 4. Write a function to calculate the sum of n digits"
   ]
  },
  {
   "cell_type": "code",
   "execution_count": 9,
   "id": "a092e03f-fe7f-48e1-b759-ef0b4584d18e",
   "metadata": {},
   "outputs": [
    {
     "name": "stdout",
     "output_type": "stream",
     "text": [
      "15\n"
     ]
    }
   ],
   "source": [
    "def sum_of_digits(n):\n",
    "    return sum(int(digit) for digit in str(n))\n",
    "\n",
    "print(sum_of_digits(12345))  "
   ]
  },
  {
   "cell_type": "markdown",
   "id": "926e5d7e-a7d9-429e-8828-1d1f451b6a50",
   "metadata": {},
   "source": [
    "## 5. Write a function to calculate the factorial of a number"
   ]
  },
  {
   "cell_type": "code",
   "execution_count": null,
   "id": "d1d13334-2133-416d-84ae-752637b56ccc",
   "metadata": {},
   "outputs": [
    {
     "name": "stdout",
     "output_type": "stream",
     "text": [
      "120\n"
     ]
    }
   ],
   "source": [
    "import math\n",
    "print(math.factorial(5)) \n",
    "\n",
    "\n",
    "''' def factorial(n):\n",
    "    result = 1\n",
    "    for i in range(1, n + 1):\n",
    "        result *= i\n",
    "    return result\n",
    "\n",
    "# Приклад використання\n",
    "print(factorial(5))  # Виведе: 120\n",
    "'''"
   ]
  },
  {
   "cell_type": "markdown",
   "id": "5146a0bd-e5c6-4f7e-a7ee-954d212a66a2",
   "metadata": {},
   "source": [
    "## 6. Write a function to check if a list has duplicates\n",
    "*Ex:* [1,1,2,2,3,4] - this list has duplicate numbers"
   ]
  },
  {
   "cell_type": "code",
   "execution_count": 11,
   "id": "82b1fc9e-012b-4e5c-99cb-48028f6e7516",
   "metadata": {},
   "outputs": [
    {
     "name": "stdout",
     "output_type": "stream",
     "text": [
      "True\n",
      "False\n"
     ]
    }
   ],
   "source": [
    "def has_duplicates(lst):\n",
    "    return len(lst) != len(set(lst))\n",
    "\n",
    "# Приклад використання\n",
    "numbers = [1, 1, 2, 2, 3, 4]\n",
    "print(has_duplicates(numbers))  # Виведе: True\n",
    "\n",
    "numbers2 = [1, 2, 3, 4, 5]\n",
    "print(has_duplicates(numbers2))  # Виведе: False\n"
   ]
  },
  {
   "cell_type": "markdown",
   "id": "bcc1ce82-7f5d-4515-83d4-68f72f5012a3",
   "metadata": {},
   "source": [
    "## 7. Write a fuction to print a sentence three times"
   ]
  },
  {
   "cell_type": "code",
   "execution_count": null,
   "id": "cc8c8103-ee25-44c5-b1e6-b4e0fd029ec3",
   "metadata": {},
   "outputs": [],
   "source": [
    "def print_three_times(sentence):\n",
    "    for i in range(3):  # Використовуємо змінну i\n",
    "        print(sentence)\n",
    "\n",
    "print_three_times(\"Hello, world!\")\n"
   ]
  },
  {
   "cell_type": "markdown",
   "id": "8e689ea1-8857-48d9-9a3d-d9b89682fe35",
   "metadata": {},
   "source": [
    "## 8. Write a function to calculate the area of a circle\n",
    "*Hint:* Area of circle = pi*r**2, use the math module"
   ]
  },
  {
   "cell_type": "code",
   "execution_count": 14,
   "id": "5b668964-bcd2-4ab3-84e8-893c44435d31",
   "metadata": {},
   "outputs": [
    {
     "name": "stdout",
     "output_type": "stream",
     "text": [
      "Площа кола: 78.53981633974483\n"
     ]
    }
   ],
   "source": [
    "import math\n",
    "\n",
    "def circle_area(radius):\n",
    "    return math.pi * radius ** 2\n",
    "\n",
    "# Приклад використання \n",
    "# radius ** 2 підносить радіус до квадрату.\n",
    "r = 5\n",
    "print(\"Площа кола:\", circle_area(r))\n"
   ]
  },
  {
   "cell_type": "markdown",
   "id": "33528b16-d184-48a0-8ca5-971e2ca6cbd7",
   "metadata": {},
   "source": [
    "## 9. Write a function to calculate squareroot of a number using the help of the math module"
   ]
  },
  {
   "cell_type": "code",
   "execution_count": 15,
   "id": "599a9e08-75da-4ec7-9270-18c0c49ea6aa",
   "metadata": {},
   "outputs": [
    {
     "name": "stdout",
     "output_type": "stream",
     "text": [
      "Квадратний корінь: 5.0\n"
     ]
    },
    {
     "data": {
      "text/plain": [
       "'def square_root(n):\\n    return n ** 0.5\\n\\nprint(square_root(25))  # 5.0\\n'"
      ]
     },
     "execution_count": 15,
     "metadata": {},
     "output_type": "execute_result"
    }
   ],
   "source": [
    "import math\n",
    "\n",
    "def square_root(n):\n",
    "    return math.sqrt(n)\n",
    "\n",
    "# Приклад використання\n",
    "num = 25\n",
    "print(\"Квадратний корінь:\", square_root(num))\n",
    "\n",
    "\n",
    "'''def square_root(n):\n",
    "    return n ** 0.5\n",
    "\n",
    "print(square_root(25))  # 5.0\n",
    "'''"
   ]
  },
  {
   "cell_type": "markdown",
   "id": "b8fbf118-da4d-48c6-8bb8-8cccdccbdaa6",
   "metadata": {},
   "source": [
    "## 10. Write a function generate_random_number(a, b) that generates and returns a random integer between a and b using the random module"
   ]
  },
  {
   "cell_type": "code",
   "execution_count": 16,
   "id": "8a1a312e-600a-433a-9a5a-0038c0e6196a",
   "metadata": {},
   "outputs": [
    {
     "name": "stdout",
     "output_type": "stream",
     "text": [
      "3\n"
     ]
    }
   ],
   "source": [
    "import random\n",
    "\n",
    "def generate_random_number(a, b):\n",
    "    return random.randint(a, b)\n",
    "\n",
    "# Приклад використання\n",
    "print(generate_random_number(1, 10))  # Випадкове число від 1 до 10\n"
   ]
  },
  {
   "cell_type": "markdown",
   "id": "ce014bd0-f68a-4a00-88cc-bd28696c3643",
   "metadata": {},
   "source": [
    "## 11. Write a function to calculate mean and variance of the list x = [6,4,8,10,97] using the statistics module"
   ]
  },
  {
   "cell_type": "code",
   "execution_count": 17,
   "id": "16cc6b1e-8878-4074-93d7-81a654a3e587",
   "metadata": {},
   "outputs": [
    {
     "name": "stdout",
     "output_type": "stream",
     "text": [
      "Середнє значення: 25\n",
      "Дисперсія: 1625\n"
     ]
    },
    {
     "data": {
      "text/plain": [
       "'statistics.mean(lst) – обчислює середнє арифметичне списку.\\n\\n'"
      ]
     },
     "execution_count": 17,
     "metadata": {},
     "output_type": "execute_result"
    }
   ],
   "source": [
    "import statistics\n",
    "\n",
    "def calculate_mean_variance(lst):\n",
    "    mean_value = statistics.mean(lst)   # Середнє арифметичне\n",
    "    variance_value = statistics.variance(lst)  # Дисперсія\n",
    "    return mean_value, variance_value\n",
    "\n",
    "# Приклад використання\n",
    "x = [6, 4, 8, 10, 97]\n",
    "mean, variance = calculate_mean_variance(x)\n",
    "\n",
    "print(\"Середнє значення:\", mean)\n",
    "print(\"Дисперсія:\", variance)\n",
    "\n",
    "'''statistics.mean(lst) – обчислює середнє арифметичне списку.\n",
    "\n",
    "'''"
   ]
  },
  {
   "cell_type": "markdown",
   "id": "03920997-bf94-423f-b365-0693ca2d1e44",
   "metadata": {},
   "source": [
    "## 12. Create a module with functions for the following math equations\n",
    "\n",
    "- *EQ 1* ``` A**2 + B**2 = R**2```\n",
    "- *EQ 2* ``` (A-B)**2 = A**2-2*A*B+B**2```\n",
    "- *EQ 3* ``` (A+B)**2 = A**2+2*A*B+B**2```\n"
   ]
  },
  {
   "cell_type": "code",
   "execution_count": null,
   "id": "5842e618",
   "metadata": {},
   "outputs": [
    {
     "ename": "NameError",
     "evalue": "name 'math_equations' is not defined",
     "output_type": "error",
     "traceback": [
      "\u001b[0;31m---------------------------------------------------------------------------\u001b[0m",
      "\u001b[0;31mNameError\u001b[0m                                 Traceback (most recent call last)",
      "Cell \u001b[0;32mIn[20], line 17\u001b[0m\n\u001b[1;32m     14\u001b[0m a \u001b[38;5;241m=\u001b[39m \u001b[38;5;241m3\u001b[39m\n\u001b[1;32m     15\u001b[0m b \u001b[38;5;241m=\u001b[39m \u001b[38;5;241m4\u001b[39m\n\u001b[0;32m---> 17\u001b[0m \u001b[38;5;28mprint\u001b[39m(\u001b[38;5;124m\"\u001b[39m\u001b[38;5;124mEQ1 (A² + B² = R²):\u001b[39m\u001b[38;5;124m\"\u001b[39m, \u001b[43mmath_equations\u001b[49m\u001b[38;5;241m.\u001b[39meq1(a, b))  \u001b[38;5;66;03m# 3² + 4² = 9 + 16 = 25\u001b[39;00m\n\u001b[1;32m     18\u001b[0m \u001b[38;5;28mprint\u001b[39m(\u001b[38;5;124m\"\u001b[39m\u001b[38;5;124mEQ2 ((A-B)²):\u001b[39m\u001b[38;5;124m\"\u001b[39m, math_equations\u001b[38;5;241m.\u001b[39meq2(a, b))  \u001b[38;5;66;03m# (3-4)² = (-1)² = 1\u001b[39;00m\n\u001b[1;32m     19\u001b[0m \u001b[38;5;28mprint\u001b[39m(\u001b[38;5;124m\"\u001b[39m\u001b[38;5;124mEQ3 ((A+B)²):\u001b[39m\u001b[38;5;124m\"\u001b[39m, math_equations\u001b[38;5;241m.\u001b[39meq3(a, b))  \u001b[38;5;66;03m# (3+4)² = 7² = 49\u001b[39;00m\n",
      "\u001b[0;31mNameError\u001b[0m: name 'math_equations' is not defined"
     ]
    }
   ],
   "source": [
    "def eq1(a, b):\n",
    "    \"\"\"Обчислює A² + B² = R² та повертає R²\"\"\"\n",
    "    return a**2 + b**2\n",
    "\n",
    "def eq2(a, b):\n",
    "    \"\"\"Обчислює (A - B)² = A² - 2AB + B²\"\"\"\n",
    "    return (a - b) ** 2\n",
    "\n",
    "def eq3(a, b):\n",
    "    \"\"\"Обчислює (A + B)² = A² + 2AB + B²\"\"\"\n",
    "    return (a + b) ** 2\n",
    "\n",
    "import math_equations\n",
    "\n",
    "a = 3\n",
    "b = 4\n",
    "\n",
    "print(\"EQ1 (A² + B² = R²):\", math_equations.eq1(a, b))  # 3² + 4² = 9 + 16 = 25\n",
    "print(\"EQ2 ((A-B)²):\", math_equations.eq2(a, b))  # (3-4)² = (-1)² = 1\n",
    "print(\"EQ3 ((A+B)²):\", math_equations.eq3(a, b))  # (3+4)² = 7² = 49\n",
    "\n"
   ]
  },
  {
   "cell_type": "markdown",
   "id": "6ddae206-8da3-4617-be92-346e16c2220f",
   "metadata": {},
   "source": [
    "## 13. Write a function to calculate the diameter of a circle but use the result of EQ1 from your module in question 9 as the value for radius\n",
    "\n",
    "*Hint* Diameter of circle = r**2"
   ]
  },
  {
   "cell_type": "code",
   "execution_count": null,
   "id": "839db4ad-c01a-4560-a948-1ed89ca6f398",
   "metadata": {},
   "outputs": [],
   "source": [
    "import math\n",
    "\n",
    "def square_root(n):\n",
    "    return math.sqrt(n)  # Квадратний корінь з n\n",
    "\n",
    "def circle_diameter(n):\n",
    "    radius = square_root(n)  # Використовуємо квадратний корінь як радіус\n",
    "    return 2 * radius  # Формула: D = 2r\n",
    "\n",
    "# Приклад використання\n",
    "n = 25\n",
    "print(\"Діаметр кола:\", circle_diameter(n))  # Очікуваний результат: 10.0\n",
    "\n"
   ]
  },
  {
   "cell_type": "markdown",
   "id": "3f3d9a2a-6af9-45ff-9cdf-2e5103ad775a",
   "metadata": {},
   "source": [
    "## 14. Write a function to count the frequency of all the letters in this string\n",
    "```python\n",
    "x='CATGTTTCCACTTACAGATCCTTCAAAAAGAGTGTTTCAAAACTGCTCTATGAAAAGGAATGTTCAACTCTGTGAGTTAAATAAAAGCATCAAAAAAAAGTTTCTGAGAATGCTTCTTTCTGAGAATGCTTCTGTCTAGTTTTTATGTGAAAATAGTTCGTTCTCCAAAATAGTCCTCAAAGCGCTCCAAATGTCCACTTGCAGATTCTACAAAAAGAGTGTTTCAAAACTGCTCTATGAAAAGGAATGTTCAACT'\n",
    "\n",
    "Your output should look like this: {'C': 47, 'A': 88, 'T': 80, 'G': 41}\n",
    "```"
   ]
  },
  {
   "cell_type": "code",
   "execution_count": 21,
   "id": "ea68e859",
   "metadata": {},
   "outputs": [
    {
     "name": "stdout",
     "output_type": "stream",
     "text": [
      "{'C': 47, 'A': 88, 'T': 80, 'G': 41}\n"
     ]
    }
   ],
   "source": [
    "from collections import Counter\n",
    "\n",
    "def count_letters(x):\n",
    "    # Використовуємо Counter для підрахунку частоти кожної літери\n",
    "    return dict(Counter(x))\n",
    "\n",
    "# Приклад використання\n",
    "x = 'CATGTTTCCACTTACAGATCCTTCAAAAAGAGTGTTTCAAAACTGCTCTATGAAAAGGAATGTTCAACTCTGTGAGTTAAATAAAAGCATCAAAAAAAAGTTTCTGAGAATGCTTCTTTCTGAGAATGCTTCTGTCTAGTTTTTATGTGAAAATAGTTCGTTCTCCAAAATAGTCCTCAAAGCGCTCCAAATGTCCACTTGCAGATTCTACAAAAAGAGTGTTTCAAAACTGCTCTATGAAAAGGAATGTTCAACT'\n",
    "result = count_letters(x)\n",
    "\n",
    "print(result)\n"
   ]
  },
  {
   "cell_type": "markdown",
   "id": "c7dbe318-711d-4b6f-89af-65fdee7d14f6",
   "metadata": {},
   "source": [
    "## 15. Write a function to perform a die roll each time you call it\n",
    "*Hint:* Use the random() module"
   ]
  },
  {
   "cell_type": "code",
   "execution_count": 22,
   "id": "0e269a5e",
   "metadata": {},
   "outputs": [
    {
     "name": "stdout",
     "output_type": "stream",
     "text": [
      "1\n",
      "1\n",
      "5\n"
     ]
    }
   ],
   "source": [
    "import random\n",
    "\n",
    "def roll_die():\n",
    "    return random.randint(1, 6)\n",
    "\n",
    "# Приклад використання\n",
    "print(roll_die())  # Виведе випадкове число від 1 до 6\n",
    "print(roll_die())  # Виведе випадкове число від 1 до 6\n",
    "print(roll_die())  # Виведе випадкове число від 1 до 6\n"
   ]
  },
  {
   "cell_type": "markdown",
   "id": "e488495e-4f91-40f3-bfe4-bf848ae7193a",
   "metadata": {},
   "source": [
    "## Resource [Python built-in modules](https://www.w3schools.com/python/module_random.asp)"
   ]
  },
  {
   "cell_type": "code",
   "execution_count": null,
   "id": "48c650a0-7184-4fab-b3b5-06c361abf428",
   "metadata": {},
   "outputs": [
    {
     "ename": "ModuleNotFoundError",
     "evalue": "No module named 'wish'",
     "output_type": "error",
     "traceback": [
      "\u001b[0;31m---------------------------------------------------------------------------\u001b[0m",
      "\u001b[0;31mModuleNotFoundError\u001b[0m                       Traceback (most recent call last)",
      "Cell \u001b[0;32mIn[24], line 1\u001b[0m\n\u001b[0;32m----> 1\u001b[0m \u001b[38;5;28;01mimport\u001b[39;00m \u001b[38;5;21;01mwish\u001b[39;00m\n\u001b[1;32m      3\u001b[0m wish\u001b[38;5;241m.\u001b[39mbday(\u001b[38;5;124m'\u001b[39m\u001b[38;5;124mBob\u001b[39m\u001b[38;5;124m'\u001b[39m)\n",
      "\u001b[0;31mModuleNotFoundError\u001b[0m: No module named 'wish'"
     ]
    }
   ],
   "source": [
    "import wish\n",
    "\n",
    "wish.bday('Bob')\n",
    "\n",
    "'''# wish.py\n",
    "def bday(name):\n",
    "    print(f\"Happy Birthday, {name}!\")\n",
    "'''\n",
    "'''# main.py\n",
    "import wish\n",
    "\n",
    "wish.bday('Bob')  # This will print: Happy Birthday, Bob!\n",
    "'''"
   ]
  },
  {
   "cell_type": "code",
   "execution_count": null,
   "id": "aee53761-e720-4dba-a67b-d8eb6a94a007",
   "metadata": {},
   "outputs": [],
   "source": []
  }
 ],
 "metadata": {
  "kernelspec": {
   "display_name": "Python 3",
   "language": "python",
   "name": "python3"
  },
  "language_info": {
   "codemirror_mode": {
    "name": "ipython",
    "version": 3
   },
   "file_extension": ".py",
   "mimetype": "text/x-python",
   "name": "python",
   "nbconvert_exporter": "python",
   "pygments_lexer": "ipython3",
   "version": "3.9.13"
  }
 },
 "nbformat": 4,
 "nbformat_minor": 5
}
