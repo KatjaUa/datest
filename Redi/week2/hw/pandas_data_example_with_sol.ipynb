{
 "cells": [
  {
   "cell_type": "markdown",
   "id": "339b6483-2ce9-4977-b5a3-8ce7dc266581",
   "metadata": {},
   "source": [
    "# Base Python: Read and write files"
   ]
  },
  {
   "cell_type": "markdown",
   "id": "539b4502-9e32-4603-bb7f-8d956ef0b472",
   "metadata": {},
   "source": [
    "### 1. Open a txt file named 'Hello world' and write all elements of the list x in newlines, then open that file and print all lines in the file\n",
    "\n",
    "```python\n",
    "x = ['Python is flexible','but', 'Python is slow!']\n",
    "```"
   ]
  },
  {
   "cell_type": "markdown",
   "id": "f612a394-d6f4-4040-a4eb-01309b00b4a5",
   "metadata": {},
   "source": [
    "# Pandas is built on Numpy"
   ]
  },
  {
   "cell_type": "code",
   "execution_count": 80,
   "id": "6fb2036a-fc9e-46ad-b998-e224c9a4c99c",
   "metadata": {},
   "outputs": [],
   "source": [
    "import pandas as pd"
   ]
  },
  {
   "cell_type": "markdown",
   "id": "ad1f6e38-0cdd-4ba9-a4a3-c518a1fb4dde",
   "metadata": {},
   "source": [
    "## Pandas can read:"
   ]
  },
  {
   "cell_type": "markdown",
   "id": "665ca389-4863-4c67-b93b-21f79a8d5edb",
   "metadata": {},
   "source": [
    "1. CSV (Comma-Separated Values)\n",
    "    - Function: pd.read_csv()\n",
    "    - Description: CSV files are simple text files where data is separated by commas (or other delimiters).\n",
    "    - Example: df = pd.read_csv('data.csv')\n",
    "2. Excel Files (XLSX/XLS)\n",
    "    - Function: pd.read_excel()\n",
    "    - Description: Pandas can read from both .xlsx (Excel 2007+) and .xls (older Excel formats).\n",
    "    - Example: df = pd.read_excel('data.xlsx', sheet_name='Sheet1')\n",
    "3. JSON (JavaScript Object Notation)\n",
    "    - Function: pd.read_json()\n",
    "    - Description: JSON files can store structured data as key-value pairs, often used in web applications.\n",
    "    - Example: df = pd.read_json('data.json')\n",
    "4. SQL Databases\n",
    "    - Function: pd.read_sql(), pd.read_sql_query(), pd.read_sql_table()\n",
    "    - Description: Pandas can read data from SQL databases such as SQLite, PostgreSQL, MySQL, etc.\n",
    "    - Example: Query: df = pd.read_sql_query('SELECT * FROM table_name', connection), Full Table: df = pd.read_sql_table('table_name', connection)\n",
    "5. XML Files\n",
    "    - Function: pd.read_xml()\n",
    "    - Description: XML is a markup language commonly used for data exchange. Pandas can read XML and convert it into a DataFrame.\n",
    "    - Example: df = pd.read_xml('data.xml')\n",
    "6. Plain Text Files\n",
    "    - Function: pd.read_fwf() (for fixed-width formatted files), pd.read_csv('',delimiter='') (for delimited text files)\n",
    "    - Description: Text files with either fixed-width columns or custom delimiters.\n",
    "    - Example: df = pd.read_fwf('data.txt')\n",
    "7. Compressed Files\n",
    "    - Function: pd.read_csv(), pd.read_json(), pd.read_parquet(), etc. (with compression specified)\n",
    "    - Description: Pandas can automatically handle compressed files such as .gz, .bz2, .zip, .xz.\n",
    "    - Example: df = pd.read_csv('data.csv.gz')\n",
    "      \n",
    "AND MUCH MORE..."
   ]
  },
  {
   "cell_type": "code",
   "execution_count": null,
   "id": "be1b0cdd-a8c7-4274-b339-8c1681756150",
   "metadata": {},
   "outputs": [],
   "source": [
    "df = pd.read_csv('Health_Sleep_Statistics.csv')\n",
    "y = pd.read_csv('SampleSuperstore.csv')\n",
    "df.tail(3)\n",
    "df.head(4)\n",
    "\n",
    "df.columns\n",
    "df[['Age','User ID']].head(2) #[0:3]\n",
    "df.iloc[0:4,1] # df.iloc[r,c]\n",
    "\n",
    "df.loc[df['Gender']== 'f'].head(3)\n",
    "\n",
    "df.loc[df['Bedtime']== '23:00']\n",
    "df.describe().round()\n",
    "df"
   ]
  },
  {
   "cell_type": "markdown",
   "id": "44e85637-8fc1-4f84-be66-17e4c9adcde7",
   "metadata": {},
   "source": [
    "## Exercises"
   ]
  },
  {
   "cell_type": "markdown",
   "id": "c9e63e0b-25d0-468a-bb37-0eb5b58b6ab0",
   "metadata": {},
   "source": [
    "### 1. Load the CSV file and display the first 10 rows of the dataset. Then, print the summary statistics of the Daily Steps and Calories Burned columns"
   ]
  },
  {
   "cell_type": "code",
   "execution_count": 95,
   "id": "6c12775e-d859-4271-a9e1-32f8b017538b",
   "metadata": {},
   "outputs": [
    {
     "data": {
      "text/html": [
       "<div>\n",
       "<style scoped>\n",
       "    .dataframe tbody tr th:only-of-type {\n",
       "        vertical-align: middle;\n",
       "    }\n",
       "\n",
       "    .dataframe tbody tr th {\n",
       "        vertical-align: top;\n",
       "    }\n",
       "\n",
       "    .dataframe thead th {\n",
       "        text-align: right;\n",
       "    }\n",
       "</style>\n",
       "<table border=\"1\" class=\"dataframe\">\n",
       "  <thead>\n",
       "    <tr style=\"text-align: right;\">\n",
       "      <th></th>\n",
       "      <th>Daily Steps</th>\n",
       "      <th>Calories Burned</th>\n",
       "    </tr>\n",
       "  </thead>\n",
       "  <tbody>\n",
       "    <tr>\n",
       "      <th>count</th>\n",
       "      <td>100.00</td>\n",
       "      <td>100.00</td>\n",
       "    </tr>\n",
       "    <tr>\n",
       "      <th>mean</th>\n",
       "      <td>6830.00</td>\n",
       "      <td>2421.00</td>\n",
       "    </tr>\n",
       "    <tr>\n",
       "      <th>std</th>\n",
       "      <td>2498.71</td>\n",
       "      <td>281.07</td>\n",
       "    </tr>\n",
       "    <tr>\n",
       "      <th>min</th>\n",
       "      <td>3000.00</td>\n",
       "      <td>2000.00</td>\n",
       "    </tr>\n",
       "    <tr>\n",
       "      <th>25%</th>\n",
       "      <td>4750.00</td>\n",
       "      <td>2175.00</td>\n",
       "    </tr>\n",
       "    <tr>\n",
       "      <th>50%</th>\n",
       "      <td>6750.00</td>\n",
       "      <td>2400.00</td>\n",
       "    </tr>\n",
       "    <tr>\n",
       "      <th>75%</th>\n",
       "      <td>9000.00</td>\n",
       "      <td>2700.00</td>\n",
       "    </tr>\n",
       "    <tr>\n",
       "      <th>max</th>\n",
       "      <td>11000.00</td>\n",
       "      <td>2900.00</td>\n",
       "    </tr>\n",
       "  </tbody>\n",
       "</table>\n",
       "</div>"
      ],
      "text/plain": [
       "       Daily Steps  Calories Burned\n",
       "count       100.00           100.00\n",
       "mean       6830.00          2421.00\n",
       "std        2498.71           281.07\n",
       "min        3000.00          2000.00\n",
       "25%        4750.00          2175.00\n",
       "50%        6750.00          2400.00\n",
       "75%        9000.00          2700.00\n",
       "max       11000.00          2900.00"
      ]
     },
     "execution_count": 95,
     "metadata": {},
     "output_type": "execute_result"
    }
   ],
   "source": [
    "import pandas as pd\n",
    "df = pd.read_csv('Health_Sleep_Statistics.csv')\n",
    "df.head(10)\n",
    "df[['Daily Steps', 'Calories Burned']].describe().round(2)"
   ]
  },
  {
   "cell_type": "code",
   "execution_count": 88,
   "id": "54f0f0d2-6f25-4c67-94e3-75ef838a7b67",
   "metadata": {},
   "outputs": [
    {
     "name": "stdout",
     "output_type": "stream",
     "text": [
      "['f' 'm'] <class 'numpy.ndarray'>\n"
     ]
    }
   ],
   "source": [
    "f = pd.unique(df['Gender'])\n",
    "print(f,type(f))"
   ]
  },
  {
   "cell_type": "markdown",
   "id": "ae4f8b6b-fadd-4c94-98ad-841a8cc46505",
   "metadata": {},
   "source": [
    "### 2. Filter the dataset to find users who have a sleep quality score below 3 and burn more than 2500 calories per day. Display their User ID, Age, and Sleep Quality"
   ]
  },
  {
   "cell_type": "code",
   "execution_count": null,
   "id": "8fcd5b71-148b-462d-bfea-0dd3e5ab7b24",
   "metadata": {},
   "outputs": [],
   "source": [
    "filtered_df = df[(df['Sleep Quality']>3) & (df['Calories Burned']>2500)]\n",
    "filtered_df[['User ID','Age','Sleep Quality']]"
   ]
  },
  {
   "cell_type": "markdown",
   "id": "1f4207e0-b869-4b01-b8d5-00c7074b8779",
   "metadata": {},
   "source": [
    "### 3. Create a new column called Sleep Duration that calculates the duration of sleep in hours using the Bedtime and Wake-up Time columns. Assume these columns are in 24-hour format (e.g., \"22:30\", \"06:45\")"
   ]
  },
  {
   "cell_type": "code",
   "execution_count": 135,
   "id": "84104731-a8e6-4827-ad91-4a3716a02a92",
   "metadata": {},
   "outputs": [
    {
     "name": "stdout",
     "output_type": "stream",
     "text": [
      "   User ID  Age Gender  Sleep Quality             Bedtime        Wake-up Time  \\\n",
      "0        1   25      f              8 1900-01-01 23:00:00 1900-01-01 06:30:00   \n",
      "1        2   34      m              7 1900-01-01 00:30:00 1900-01-01 07:00:00   \n",
      "2        3   29      f              9 1900-01-01 22:45:00 1900-01-01 06:45:00   \n",
      "\n",
      "   Daily Steps  Calories Burned Physical Activity Level Dietary Habits  \\\n",
      "0         8000             2500                  medium        healthy   \n",
      "1         5000             2200                     low      unhealthy   \n",
      "2         9000             2700                    high        healthy   \n",
      "\n",
      "  Sleep Disorders Medication Usage  Sleep Duration  \n",
      "0              no               no             7.5  \n",
      "1             yes              yes             6.5  \n",
      "2              no               no             8.0  \n"
     ]
    }
   ],
   "source": [
    "# Convert Bedtime and Wake-up Time to datetime objects (with seconds included)\n",
    "df['Bedtime'] = pd.to_datetime(df['Bedtime'], format='%H:%M:%S')\n",
    "df['Wake-up Time'] = pd.to_datetime(df['Wake-up Time'], format='%H:%M:%S')\n",
    "\n",
    "# Subtract and calculate sleep duration in hours\n",
    "df['Sleep Duration'] = (df['Wake-up Time'] - df['Bedtime']).dt.total_seconds() / 3600\n",
    "df.loc[df['Sleep Duration'] <= 0, 'Sleep Duration'] = df['Sleep Duration'] + 24\n",
    "# Handle cases where bedtime is after midnight\n",
    "#df['Sleep Duration'] = df['Sleep Duration'].apply(lambda x: x if x > 0 else x + 24)\n",
    "\n",
    "print(df.head(3))"
   ]
  },
  {
   "cell_type": "markdown",
   "id": "70156566-90d6-4dcc-b054-9540a6e186db",
   "metadata": {},
   "source": [
    "### 4. Find the user with the maximum physical activity level and display their User ID, Daily Steps, Calories Burned, and Physical Activity Level."
   ]
  },
  {
   "cell_type": "code",
   "execution_count": null,
   "id": "be1343ba-6509-4855-a29e-3eb133e43c69",
   "metadata": {},
   "outputs": [],
   "source": [
    "# Find the row with the maximum Physical Activity Level\n",
    "max_activity_user = df.loc[df['Physical Activity Level'].idxmax()]\n",
    "\n",
    "# Display User ID, Daily Steps, Calories Burned, and Physical Activity Level\n",
    "print(max_activity_user[['User ID', 'Daily Steps', 'Calories Burned', 'Physical Activity Level']])"
   ]
  },
  {
   "cell_type": "markdown",
   "id": "79efff5d-19e7-4194-ad72-df4af79874ea",
   "metadata": {},
   "source": [
    "### 5. Group the users by Gender and calculate the average Daily Steps and Calories Burned for each gender"
   ]
  },
  {
   "cell_type": "code",
   "execution_count": null,
   "id": "287c42ae-283c-443f-b9e8-def82d953b3c",
   "metadata": {},
   "outputs": [],
   "source": [
    "# Group by Gender and calculate the mean of Daily Steps and Calories Burned\n",
    "gender_group = df.groupby('Gender')[['Daily Steps', 'Calories Burned']].mean()\n",
    "\n",
    "print(gender_group)"
   ]
  },
  {
   "cell_type": "markdown",
   "id": "95e9b73a-a246-44a8-b628-388d86cf9840",
   "metadata": {},
   "source": [
    "### 6. Check if there are any missing values in the dataset and fill them with appropriate values. For numeric columns, fill with the column mean, and for categorical columns, fill with the mode"
   ]
  },
  {
   "cell_type": "code",
   "execution_count": null,
   "id": "6b930522-a027-43f6-b194-8c793ec338f2",
   "metadata": {},
   "outputs": [],
   "source": [
    "# Check for missing values\n",
    "print(df.isnull().sum())\n",
    "\n",
    "# Fill numeric columns with mean and categorical columns with mode\n",
    "for column in df.columns:\n",
    "    if df[column].dtype == 'object':\n",
    "        df[column].fillna(df[column].mode()[0], inplace=True)\n",
    "    else:\n",
    "        df[column].fillna(df[column].mean(), inplace=True)\n",
    "\n",
    "# Check if missing values are filled\n",
    "print(df.isnull().sum())"
   ]
  },
  {
   "cell_type": "markdown",
   "id": "3306fd16-1523-41ae-857b-783513efbc4d",
   "metadata": {},
   "source": [
    "### 7. Add a column called Age Group that categorizes users into Young (0-30), Middle-aged (31-60), and Senior (60+) based on their age"
   ]
  },
  {
   "cell_type": "code",
   "execution_count": null,
   "id": "8e3d3c93-eaa3-4fc3-9bdb-8c5d6a422ae0",
   "metadata": {},
   "outputs": [],
   "source": [
    "# Check for missing values\n",
    "print(df.isnull().sum())\n",
    "\n",
    "# Fill numeric columns with mean and categorical columns with mode\n",
    "for column in df.columns:\n",
    "    if df[column].dtype == 'object':\n",
    "        df[column].fillna(df[column].mode()[0], inplace=True)\n",
    "    else:\n",
    "        df[column].fillna(df[column].mean(), inplace=True)\n",
    "\n",
    "# Check if missing values are filled\n",
    "print(df.isnull().sum())"
   ]
  },
  {
   "cell_type": "markdown",
   "id": "9d4bf571-3aaf-41b3-918c-e358b8c4ad89",
   "metadata": {},
   "source": [
    "### 8. Identify the users who report taking medication and have a Sleep Disorder. Display their User ID, Age, and Medication Usage"
   ]
  },
  {
   "cell_type": "code",
   "execution_count": null,
   "id": "1b4871ba-bf6a-418f-8275-ae95a546b5b5",
   "metadata": {},
   "outputs": [],
   "source": [
    "# Filter users with Medication Usage and Sleep Disorders\n",
    "med_sleep_disorder_users = df[(df['Medication Usage'] == 'Yes') & (df['Sleep Disorders'] == 'Yes')]\n",
    "\n",
    "# Display User ID, Age, and Medication Usage\n",
    "print(med_sleep_disorder_users[['User ID', 'Age', 'Medication Usage']])"
   ]
  },
  {
   "cell_type": "markdown",
   "id": "ce86f76c-d83d-4749-8274-dbeec098ceed",
   "metadata": {},
   "source": [
    "### 9. Calculate the total Calories Burned by each Age Group (from the column you created in question 7)"
   ]
  },
  {
   "cell_type": "code",
   "execution_count": null,
   "id": "aeec24eb-6585-4530-9718-d9ffd8c91986",
   "metadata": {},
   "outputs": [],
   "source": [
    "# Group by Age Group and calculate total Calories Burned\n",
    "calories_by_age_group = df.groupby('Age Group')['Calories Burned'].sum()\n",
    "\n",
    "print(calories_by_age_group)"
   ]
  },
  {
   "cell_type": "markdown",
   "id": "063a8c6c-06b9-443b-b314-16ac4c0c3b2b",
   "metadata": {},
   "source": [
    "### 10. Sort the dataset by Physical Activity Level in descending order and display the top 5 users by Physical Activity Level, along with their User ID, Daily Steps, and Calories Burned"
   ]
  },
  {
   "cell_type": "code",
   "execution_count": null,
   "id": "0af565dd-7011-49d8-ad86-c5d960386ae1",
   "metadata": {},
   "outputs": [],
   "source": [
    "# Sort the dataset by Physical Activity Level in descending order\n",
    "sorted_df = df.sort_values(by='Physical Activity Level', ascending=False)\n",
    "\n",
    "# Display the top 5 users by Physical Activity Level\n",
    "print(sorted_df[['User ID', 'Daily Steps', 'Calories Burned']].head(5))"
   ]
  }
 ],
 "metadata": {
  "kernelspec": {
   "display_name": "Python 3 (ipykernel)",
   "language": "python",
   "name": "python3"
  },
  "language_info": {
   "codemirror_mode": {
    "name": "ipython",
    "version": 3
   },
   "file_extension": ".py",
   "mimetype": "text/x-python",
   "name": "python",
   "nbconvert_exporter": "python",
   "pygments_lexer": "ipython3",
   "version": "3.12.6"
  }
 },
 "nbformat": 4,
 "nbformat_minor": 5
}
