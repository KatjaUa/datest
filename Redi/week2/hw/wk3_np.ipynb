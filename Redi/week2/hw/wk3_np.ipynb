{
 "cells": [
  {
   "cell_type": "code",
   "execution_count": 4,
   "metadata": {},
   "outputs": [],
   "source": [
    "import numpy as np\n",
    "\n",
    "# Data arrays\n",
    "names = np.array(['Anna', 'John', 'Maria', 'Peter', 'Michael', 'Stiven', 'Karen'])\n",
    "ages = np.array([28.0, 34.0, 29.0, 40.0, 32.2, 32.2, 30.0])\n",
    "cities = np.array(['Kyiv', 'London', 'Berlin', 'New York', 'Paris', 'New York', 'London'])\n",
    "scores = np.array([85, 90, 88, 95, 95, 80, 75])\n"
   ]
  },
  {
   "cell_type": "markdown",
   "metadata": {},
   "source": [
    "#### 1. Viewing elements of arrays\n",
    "##### You can view the first few elements of an array with basic indexing and slicing in NumPy:"
   ]
  },
  {
   "cell_type": "code",
   "execution_count": 5,
   "metadata": {},
   "outputs": [
    {
     "name": "stdout",
     "output_type": "stream",
     "text": [
      "['Anna' 'John' 'Maria' 'Peter' 'Michael']\n"
     ]
    },
    {
     "data": {
      "text/plain": [
       "array([95, 80, 75])"
      ]
     },
     "execution_count": 5,
     "metadata": {},
     "output_type": "execute_result"
    }
   ],
   "source": [
    "print(names[:5])  # First 5 elements\n",
    "scores[-3:]  # Last 3 elements"
   ]
  },
  {
   "cell_type": "markdown",
   "metadata": {},
   "source": [
    "#### 2. Basic statistics\n",
    "##### You can use NumPy's built-in statistical functions to perform summary statistics on numeric data like ages and scores:"
   ]
  },
  {
   "cell_type": "code",
   "execution_count": 14,
   "metadata": {},
   "outputs": [
    {
     "name": "stdout",
     "output_type": "stream",
     "text": [
      "Mean score:  86.86\n",
      "Median age: 32.2\n",
      "Standard deviation: 6.92\n",
      "Maximum score: 95\n",
      "Minimum age: 28.0\n"
     ]
    }
   ],
   "source": [
    "print('Mean score: ',np.mean(scores).round(2))  # Mean score\n",
    "print('Median age:',np.median(ages) ) # Median age\n",
    "print('Standard deviation:',np.std(scores).round(2)) # Standard deviation of scores\n",
    "print('Maximum score:',np.max(scores))   # Maximum score\n",
    "print('Minimum age:',np.min(ages))     # Minimum age\n"
   ]
  },
  {
   "cell_type": "markdown",
   "metadata": {},
   "source": [
    "#### 3. Selecting elements based on conditions\n",
    "##### You can filter elements in an array based on conditions:"
   ]
  },
  {
   "cell_type": "code",
   "execution_count": 9,
   "metadata": {},
   "outputs": [
    {
     "name": "stdout",
     "output_type": "stream",
     "text": [
      "Scores greater than 80:  [85 90 88 95 95]\n"
     ]
    },
    {
     "data": {
      "text/plain": [
       "array(['Anna', 'John', 'Maria', 'Peter', 'Michael'], dtype='<U7')"
      ]
     },
     "execution_count": 9,
     "metadata": {},
     "output_type": "execute_result"
    }
   ],
   "source": [
    "print('Scores greater than 80: ',scores[scores > 80])  # Scores greater than 80\n",
    "names[scores > 80]   # Names of people with scores greater than 80"
   ]
  },
  {
   "cell_type": "markdown",
   "metadata": {},
   "source": [
    "#### 4. Sorting arrays\n",
    "##### You can sort your data with np.sort():"
   ]
  },
  {
   "cell_type": "code",
   "execution_count": 17,
   "metadata": {},
   "outputs": [
    {
     "name": "stdout",
     "output_type": "stream",
     "text": [
      "[6 5 0 2 1 3 4]\n",
      "['Karen' 'Stiven' 'Anna' 'Maria' 'John' 'Peter' 'Michael']\n"
     ]
    }
   ],
   "source": [
    "np.sort(scores)  # Sort scores in ascending order\n",
    "sorted_indices = np.argsort(scores)  # Indices that would sort the array\n",
    "print(sorted_indices)\n",
    "\n",
    "# Sort names based on the sorted score indices\n",
    "print(names[sorted_indices]) # Names sorted by their scores\n"
   ]
  },
  {
   "cell_type": "markdown",
   "metadata": {},
   "source": [
    "#### 5. Element-wise operations\n",
    "##### You can perform element-wise operations on arrays:"
   ]
  },
  {
   "cell_type": "code",
   "execution_count": 10,
   "metadata": {},
   "outputs": [
    {
     "name": "stdout",
     "output_type": "stream",
     "text": [
      "[28.  34.  29.  40.  32.2 32.2 30. ]\n",
      "after adding 1:  [29.  35.  30.  41.  33.2 33.2 31. ]\n",
      "[85 90 88 95 95 80 75]\n",
      "after multiplication by 2:  [170 180 176 190 190 160 150]\n"
     ]
    }
   ],
   "source": [
    "print(ages)  \n",
    "print('after adding 1: ',ages+1) # Add 1 to every age\n",
    "print(scores)\n",
    "print('after multiplication by 2: ',scores*2) # Multiply every score by 2\n"
   ]
  },
  {
   "cell_type": "markdown",
   "metadata": {},
   "source": [
    "#### 6. Adding a new array (like adding a column)\n",
    "##### In NumPy, you would use np.column_stack() or np.vstack() to add a new \"column\":"
   ]
  },
  {
   "cell_type": "code",
   "execution_count": 11,
   "metadata": {},
   "outputs": [
    {
     "name": "stdout",
     "output_type": "stream",
     "text": [
      "Boolean array for passing status:  [ True  True  True  True  True False False]\n",
      "New data array: \n",
      " [['Anna' '28.0' 'Kyiv' '85' 'True']\n",
      " ['John' '34.0' 'London' '90' 'True']\n",
      " ['Maria' '29.0' 'Berlin' '88' 'True']\n",
      " ['Peter' '40.0' 'New York' '95' 'True']\n",
      " ['Michael' '32.2' 'Paris' '95' 'True']\n",
      " ['Stiven' '32.2' 'New York' '80' 'False']\n",
      " ['Karen' '30.0' 'London' '75' 'False']]\n"
     ]
    }
   ],
   "source": [
    "pass_status = scores > 80  # Create a boolean array for passing status\n",
    "print('Boolean array for passing status: ',pass_status)\n",
    "combined_data = np.column_stack((names, ages, cities, scores, pass_status))  # Stack columns together\n",
    "print('New data array: \\n',combined_data)"
   ]
  },
  {
   "cell_type": "markdown",
   "metadata": {},
   "source": [
    "#### 7. Group by operations (manual approach)\n",
    "##### NumPy doesn't have a direct equivalent of groupby, but you can achieve similar results using boolean indexing:"
   ]
  },
  {
   "cell_type": "code",
   "execution_count": 15,
   "metadata": {},
   "outputs": [
    {
     "name": "stdout",
     "output_type": "stream",
     "text": [
      "Unique cities:    ['Berlin' 'Kyiv' 'London' 'New York' 'Paris']\n",
      "{np.str_('Berlin'): np.float64(88.0), np.str_('Kyiv'): np.float64(85.0), np.str_('London'): np.float64(82.5), np.str_('New York'): np.float64(87.5), np.str_('Paris'): np.float64(95.0)}\n"
     ]
    }
   ],
   "source": [
    "# Mean score by city\n",
    "np.mean(scores[cities == 'London'])  # Average score for people from London\n",
    "\n",
    "# Group by and calculate mean scores for each city\n",
    "unique_cities = np.unique(cities)\n",
    "print('Unique cities:   ',unique_cities)\n",
    "mean_scores_by_city = {city: np.mean(scores[cities == city]) for city in unique_cities}\n",
    "print(mean_scores_by_city)"
   ]
  },
  {
   "cell_type": "markdown",
   "metadata": {},
   "source": [
    "#### 8. Handling missing values\n",
    "##### In NumPy, np.nan is used for missing values. You can detect and fill missing values with functions like np.isnan() and np.nan_to_num():"
   ]
  },
  {
   "cell_type": "code",
   "execution_count": 38,
   "metadata": {},
   "outputs": [
    {
     "name": "stdout",
     "output_type": "stream",
     "text": [
      "[False  True False False False  True False]\n",
      "[28.   0.  29.  40.  32.2  0.  30. ]\n"
     ]
    }
   ],
   "source": [
    "# Example with missing values in ages\n",
    "ages_with_nan = np.array([28.0, np.nan, 29.0, 40.0, 32.2, np.nan, 30.0])\n",
    "\n",
    "print(np.isnan(ages_with_nan))  # Check for missing values\n",
    "print(np.nan_to_num(ages_with_nan, nan=0))  # Replace NaNs with 0\n"
   ]
  },
  {
   "cell_type": "markdown",
   "metadata": {},
   "source": [
    "#### 9. Transposing and reshaping arrays\n",
    "##### NumPy allows reshaping or transposing arrays. For instance, turning rows into columns or vice versa:"
   ]
  },
  {
   "cell_type": "code",
   "execution_count": null,
   "metadata": {},
   "outputs": [],
   "source": []
  },
  {
   "cell_type": "code",
   "execution_count": 2,
   "metadata": {
    "scrolled": true
   },
   "outputs": [
    {
     "ename": "NameError",
     "evalue": "name 'combined_data' is not defined",
     "output_type": "error",
     "traceback": [
      "\u001b[1;31m---------------------------------------------------------------------------\u001b[0m",
      "\u001b[1;31mNameError\u001b[0m                                 Traceback (most recent call last)",
      "Cell \u001b[1;32mIn[2], line 1\u001b[0m\n\u001b[1;32m----> 1\u001b[0m \u001b[38;5;28mprint\u001b[39m(\u001b[43mcombined_data\u001b[49m\u001b[38;5;241m.\u001b[39mT)  \u001b[38;5;66;03m# Transpose the array\u001b[39;00m\n",
      "\u001b[1;31mNameError\u001b[0m: name 'combined_data' is not defined"
     ]
    }
   ],
   "source": [
    "print(combined_data.T)  # Transpose the array\n"
   ]
  },
  {
   "cell_type": "markdown",
   "metadata": {},
   "source": [
    "#### 10. Basic indexing and slicing\n",
    "##### You can access specific rows or columns in NumPy using indexing and slicing:"
   ]
  },
  {
   "cell_type": "code",
   "execution_count": 16,
   "metadata": {},
   "outputs": [
    {
     "name": "stdout",
     "output_type": "stream",
     "text": [
      "28.0\n",
      "[29.  40.  32.2]\n",
      "['John' 'Peter' 'Michael' 'Stiven']\n"
     ]
    }
   ],
   "source": [
    "print(ages[0])  # First element in ages\n",
    "print(ages[2:5])  # Elements from index 2 to 4 (inclusive)\n",
    "print(names[ages > 30])  # Names of people older than 30\n"
   ]
  },
  {
   "cell_type": "markdown",
   "metadata": {},
   "source": [
    "### 11. Creating arrays (equivalent to initializing a DataFrame)\n",
    "#### You can create arrays of specific shapes and values in NumPy:"
   ]
  },
  {
   "cell_type": "code",
   "execution_count": 19,
   "metadata": {},
   "outputs": [
    {
     "name": "stdout",
     "output_type": "stream",
     "text": [
      "[[0. 0. 0. 0.]\n",
      " [0. 0. 0. 0.]\n",
      " [0. 0. 0. 0.]]\n",
      "\n",
      "[[1. 1. 1.]\n",
      " [1. 1. 1.]]\n",
      "[-0.12791619 -0.41103115  0.54414545  0.53859643  1.27267784]\n"
     ]
    }
   ],
   "source": [
    "print(np.zeros((3, 4)))  # Create a 3x4 array filled with zeros\n",
    "print()\n",
    "print(np.ones((2, 3)))   # Create a 2x3 array filled with ones\n",
    "print(np.random.randn(5))  # Create an array with 5 random numbers from a normal distribution"
   ]
  },
  {
   "cell_type": "markdown",
   "metadata": {},
   "source": [
    "#### 12.  Setting a seed for reproducibility\n",
    "##### If you want to generate random numbers that are the same every time you run the code, you can set the seed:"
   ]
  },
  {
   "cell_type": "code",
   "execution_count": 45,
   "metadata": {},
   "outputs": [
    {
     "name": "stdout",
     "output_type": "stream",
     "text": [
      "[0.37454012 0.95071431 0.73199394 0.59865848 0.15601864]\n",
      "[0.37454012 0.95071431 0.73199394 0.59865848 0.15601864]\n"
     ]
    }
   ],
   "source": [
    "np.random.seed(42)\n",
    "random_numbers = np.random.rand(5)\n",
    "print(random_numbers)\n",
    "print(random_numbers)  # Same output as above because the seed was reset"
   ]
  },
  {
   "cell_type": "code",
   "execution_count": null,
   "metadata": {},
   "outputs": [],
   "source": []
  }
 ],
 "metadata": {
  "kernelspec": {
   "display_name": "Python 3",
   "language": "python",
   "name": "python3"
  },
  "language_info": {
   "codemirror_mode": {
    "name": "ipython",
    "version": 3
   },
   "file_extension": ".py",
   "mimetype": "text/x-python",
   "name": "python",
   "nbconvert_exporter": "python",
   "pygments_lexer": "ipython3",
   "version": "3.9.13"
  }
 },
 "nbformat": 4,
 "nbformat_minor": 4
}
