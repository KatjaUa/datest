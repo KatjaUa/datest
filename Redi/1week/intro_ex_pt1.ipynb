{
 "cells": [
  {
   "cell_type": "code",
   "execution_count": 8,
   "metadata": {},
   "outputs": [
    {
     "name": "stdout",
     "output_type": "stream",
     "text": [
      "Hello, World\n",
      "Python is awesome!\n",
      "Learning Python step by step.\n"
     ]
    }
   ],
   "source": [
    "# 1. Print Statement\n",
    "# The print() function outputs messages or data to the screen.\n",
    "# Example: Displaying different text messages.\n",
    "print(\"Hello, World\")\n",
    "print(\"Python is awesome!\")\n",
    "print(\"Learning Python step by step.\")"
   ]
  },
  {
   "cell_type": "markdown",
   "metadata": {},
   "source": [
    "### 2. Basic Operators\n",
    "### Performing arithmetic operations using +, -, *, / (division), // (floor division), and % (modulus).\n"
   ]
  },
  {
   "cell_type": "code",
   "execution_count": 2,
   "metadata": {},
   "outputs": [
    {
     "name": "stdout",
     "output_type": "stream",
     "text": [
      "100\n",
      "The result of 5 + 3 is: 8\n",
      "200\n"
     ]
    }
   ],
   "source": [
    "# You can also print numbers or results of operations:\n",
    "print(100)\n",
    "print(\"The result of 5 + 3 is:\", 5 + 3)\n",
    "\n",
    "n=200\n",
    "print(n)"
   ]
  },
  {
   "cell_type": "code",
   "execution_count": 3,
   "metadata": {},
   "outputs": [
    {
     "name": "stdout",
     "output_type": "stream",
     "text": [
      "Addition: 8 + 2 = 10\n"
     ]
    }
   ],
   "source": [
    "# 2. Basic Operators\n",
    "# Performing arithmetic operations using +, -, *, / (division), // (floor division), and % (modulus).\n",
    "\n",
    "# Addition example:\n",
    "print(\"Addition: 8 + 2 =\", 8 + 2)\n"
   ]
  },
  {
   "cell_type": "code",
   "execution_count": 4,
   "metadata": {},
   "outputs": [
    {
     "name": "stdout",
     "output_type": "stream",
     "text": [
      "Subtraction: 10 - 4 = 6\n"
     ]
    }
   ],
   "source": [
    "\n",
    "# Subtraction example:\n",
    "print(\"Subtraction: 10 - 4 =\", 10 - 4)"
   ]
  },
  {
   "cell_type": "code",
   "execution_count": 9,
   "metadata": {},
   "outputs": [
    {
     "name": "stdout",
     "output_type": "stream",
     "text": [
      "Multiplication: 6 * 3 = 18\n"
     ]
    }
   ],
   "source": [
    "# Multiplication example:\n",
    "print(\"Multiplication: 6 * 3 =\", 6 * 3)\n"
   ]
  },
  {
   "cell_type": "code",
   "execution_count": 13,
   "metadata": {},
   "outputs": [
    {
     "name": "stdout",
     "output_type": "stream",
     "text": [
      "Hi to all! My name is  Katty\n",
      "katty\n",
      "You have a short name\n"
     ]
    }
   ],
   "source": [
    "name = input(\"\")\n",
    "print(\"Hi to all! My name is \", name)\n",
    "print(name.lower())\n",
    "count_len = len(name)\n",
    "\n",
    "if count_len >= 4:\n",
    "    print(\"You have a short name\")\n",
    "else:\n",
    "    print(\"You have a long name\")\n",
    "\n"
   ]
  },
  {
   "cell_type": "code",
   "execution_count": 17,
   "metadata": {},
   "outputs": [
    {
     "name": "stdout",
     "output_type": "stream",
     "text": [
      "1 hi  2\n",
      "2 hi  3\n"
     ]
    }
   ],
   "source": [
    "for i in range(1,3):\n",
    "    print(i, \"hi \", i+1)"
   ]
  },
  {
   "cell_type": "code",
   "execution_count": 26,
   "metadata": {},
   "outputs": [
    {
     "name": "stdout",
     "output_type": "stream",
     "text": [
      "0\n",
      "1\n",
      "1\n",
      "2\n",
      "2\n",
      "2\n"
     ]
    }
   ],
   "source": [
    "for i in range(3):\n",
    "    for j in range(i+1):\n",
    "        print(i)"
   ]
  },
  {
   "cell_type": "code",
   "execution_count": 27,
   "metadata": {},
   "outputs": [
    {
     "name": "stdout",
     "output_type": "stream",
     "text": [
      "first loop, i: 0\n",
      "second loop, i:  0 j: 0\n",
      "first loop, i: 1\n",
      "second loop, i:  1 j: 0\n",
      "second loop, i:  1 j: 1\n",
      "first loop, i: 2\n",
      "second loop, i:  2 j: 0\n",
      "second loop, i:  2 j: 1\n",
      "second loop, i:  2 j: 2\n"
     ]
    }
   ],
   "source": [
    "for i in range(3):\n",
    "    print(\"first loop, i:\", i)\n",
    "    for j in range(i+1):\n",
    "        print(\"second loop, i: \", i, \"j:\" ,j)"
   ]
  },
  {
   "cell_type": "code",
   "execution_count": 28,
   "metadata": {},
   "outputs": [
    {
     "name": "stdout",
     "output_type": "stream",
     "text": [
      "1\n",
      "2\n",
      "hi\n"
     ]
    }
   ],
   "source": [
    "x = [1, 2, \"hi\"]\n",
    "for i in x:\n",
    "    print(i)"
   ]
  },
  {
   "cell_type": "code",
   "execution_count": 35,
   "metadata": {},
   "outputs": [
    {
     "name": "stdout",
     "output_type": "stream",
     "text": [
      "5\n",
      "6\n",
      "2\n",
      "3\n"
     ]
    }
   ],
   "source": [
    "for element in [5, 6, 2, 3]:\n",
    "    print(element)\n",
    "  "
   ]
  },
  {
   "cell_type": "code",
   "execution_count": 38,
   "metadata": {},
   "outputs": [
    {
     "name": "stdout",
     "output_type": "stream",
     "text": [
      "0 1\n",
      "1 2\n"
     ]
    }
   ],
   "source": [
    "x = [1, 2, \"hi\"]\n",
    "for i in range(0, len(x)-1):\n",
    "    #print(i)\n",
    "    print(i, x[i])"
   ]
  },
  {
   "cell_type": "code",
   "execution_count": null,
   "metadata": {},
   "outputs": [
    {
     "name": "stdout",
     "output_type": "stream",
     "text": [
      "0 1\n",
      "1 2\n"
     ]
    }
   ],
   "source": [
    "y = [1, 2, \"hi\"]\n",
    "y[0:2] #slice: start and stop\n",
    "for i in range(0, len(y)-1):\n",
    "    print(i, y[i])   "
   ]
  },
  {
   "cell_type": "code",
   "execution_count": 41,
   "metadata": {},
   "outputs": [
    {
     "name": "stdout",
     "output_type": "stream",
     "text": [
      "hi\n",
      "hi\n",
      "hi\n"
     ]
    }
   ],
   "source": [
    "counter = 0\n",
    "while counter <= 3:\n",
    "    print(\"hi\") # never ending\n",
    "    if counter == 2:\n",
    "        break\n",
    "    counter +=1\n",
    "    "
   ]
  },
  {
   "cell_type": "code",
   "execution_count": null,
   "metadata": {},
   "outputs": [],
   "source": [
    "# Division example (regular division returns a float):\n",
    "print(\"Division: 8 / 2 =\", 8 / 2)"
   ]
  },
  {
   "cell_type": "code",
   "execution_count": null,
   "metadata": {},
   "outputs": [],
   "source": [
    "# Floor division (rounds down to the nearest integer):\n",
    "print(\"Floor Division: 7 // 2 =\", 7 // 2)"
   ]
  },
  {
   "cell_type": "code",
   "execution_count": null,
   "metadata": {},
   "outputs": [],
   "source": [
    "# Modulus (remainder of the division):\n",
    "print(\"Modulus: 10 % 3 =\", 10 % 3)"
   ]
  },
  {
   "cell_type": "code",
   "execution_count": null,
   "metadata": {},
   "outputs": [],
   "source": [
    "# Exponentiation (raising to the power):\n",
    "print(\"Exponentiation: 2 ** 3 =\", 2 ** 3)  # 2 to the power of 3"
   ]
  },
  {
   "cell_type": "code",
   "execution_count": null,
   "metadata": {},
   "outputs": [],
   "source": [
    "# 3. Booleans (True/False)\n",
    "# Comparison examples: == (equal), != (not equal), > (greater than), < (less than), >=, <=\n",
    "# These comparisons return either True or False.\n",
    "\n",
    "print(\"Is 10 equal to 10?\", 10 == 10)  # True\n",
    "print(\"Is 5 not equal to 8?\", 5 != 8)  # True\n",
    "print(\"Is 7 greater than 3?\", 7 > 3)   # True\n",
    "print(\"Is 4 less than or equal to 2?\", 4 <= 2)  # False\n",
    "\n",
    "# You can also compare variables:\n",
    "a = 15\n",
    "b = 20\n",
    "print(\"Is a less than b?\", a < b)  # True"
   ]
  },
  {
   "cell_type": "code",
   "execution_count": null,
   "metadata": {},
   "outputs": [],
   "source": [
    "# 4. Variables and Assignments\n",
    "# Variables store values, and their values can be changed or used in calculations.\n",
    "\n",
    "# Assigning values to variables:\n",
    "x = 50\n",
    "y = 20\n"
   ]
  },
  {
   "cell_type": "code",
   "execution_count": null,
   "metadata": {},
   "outputs": [],
   "source": [
    "# Using the variables in calculations:\n",
    "print(\"x + y =\", x + y)  # 50 + 20 = 70\n",
    "print(\"x - y =\", x - y)  # 50 - 20 = 30"
   ]
  },
  {
   "cell_type": "code",
   "execution_count": null,
   "metadata": {},
   "outputs": [],
   "source": [
    "# Reassigning a new value to a variable:\n",
    "x = 100\n",
    "print(\"New value of x is:\", x)"
   ]
  },
  {
   "cell_type": "code",
   "execution_count": null,
   "metadata": {},
   "outputs": [],
   "source": [
    "# Variables can store different types of data (integer, float, string):\n",
    "name = \"Alice\"\n",
    "age = 25\n",
    "height = 5.6\n",
    "\n",
    "print(\"Name:\", name)\n",
    "print(\"Age:\", age)\n",
    "print(\"Height in feet:\", height)"
   ]
  },
  {
   "cell_type": "code",
   "execution_count": null,
   "metadata": {},
   "outputs": [],
   "source": [
    "# 5. Lists\n",
    "# Lists can store multiple values, including mixed data types (strings, numbers, etc.)\n",
    "\n",
    "# Example: A list of fruits\n",
    "fruits = ['apple', 'banana', 'cherry', 'orange']\n",
    "print(\"List of fruits:\", fruits)\n"
   ]
  },
  {
   "cell_type": "code",
   "execution_count": null,
   "metadata": {},
   "outputs": [],
   "source": [
    "# Accessing list items using index (starts at 0)\n",
    "print(\"First fruit in the list:\", fruits[0])  # apple\n",
    "print(\"Last fruit in the list:\", fruits[-1])  # orange (negative index starts from the end)"
   ]
  },
  {
   "cell_type": "code",
   "execution_count": null,
   "metadata": {},
   "outputs": [],
   "source": [
    "# Changing an item in the list:\n",
    "fruits[1] = 'blueberry'\n",
    "print(\"Updated list of fruits:\", fruits)"
   ]
  },
  {
   "cell_type": "code",
   "execution_count": null,
   "metadata": {},
   "outputs": [],
   "source": [
    "# Example: List with mixed data types\n",
    "mixed_list = ['hello', 42, 3.14, True]\n",
    "print(\"Mixed list:\", mixed_list)"
   ]
  },
  {
   "cell_type": "code",
   "execution_count": null,
   "metadata": {},
   "outputs": [],
   "source": [
    "# Adding new elements to the list:\n",
    "fruits.append('kiwi')\n",
    "print(\"List after adding a new fruit:\", fruits)"
   ]
  },
  {
   "cell_type": "code",
   "execution_count": null,
   "metadata": {},
   "outputs": [],
   "source": [
    "# Removing elements from the list:\n",
    "fruits.remove('apple')\n",
    "print(\"List after removing 'apple':\", fruits)"
   ]
  },
  {
   "cell_type": "code",
   "execution_count": null,
   "metadata": {},
   "outputs": [],
   "source": [
    "# Accessing a range of items (slicing):\n",
    "print(\"First two fruits:\", fruits[:2])  # ['blueberry', 'cherry']"
   ]
  },
  {
   "cell_type": "code",
   "execution_count": null,
   "metadata": {},
   "outputs": [],
   "source": [
    "# Length of the list:\n",
    "print(\"Number of fruits in the list:\", len(fruits))"
   ]
  },
  {
   "cell_type": "code",
   "execution_count": null,
   "metadata": {},
   "outputs": [],
   "source": [
    "# 1. If-Else Statements\n",
    "# The if statement allows you to check a condition and execute code only if the condition is True.\n",
    "# If the condition is False, you can use 'else' to execute alternative code.\n",
    "# You can also use 'elif' (else if) to check additional conditions.\n",
    "\n",
    "# Example: Checking if a number is positive, negative, or zero\n",
    "number = 5\n",
    "\n",
    "if number > 0:\n",
    "    print(\"The number is positive.\")\n",
    "elif number < 0:\n",
    "    print(\"The number is negative.\")\n",
    "else:\n",
    "    print(\"The number is zero.\")"
   ]
  },
  {
   "cell_type": "code",
   "execution_count": null,
   "metadata": {},
   "outputs": [],
   "source": [
    "# Another example: Checking age for voting eligibility\n",
    "age = int(input(\"How old are you? \"))\n",
    "\n",
    "if  age>=18:\n",
    "    print(\"You are eligible to buy any alchohol in Denmark.\")\n",
    "elif  age >= 16 and age<18:\n",
    "    print(\"You are eligible to buy beer in Denmark.\")  \n",
    "else:\n",
    "    print(\"You are not eligible to buy alchohol.\")"
   ]
  }
 ],
 "metadata": {
  "kernelspec": {
   "display_name": "Python 3",
   "language": "python",
   "name": "python3"
  },
  "language_info": {
   "codemirror_mode": {
    "name": "ipython",
    "version": 3
   },
   "file_extension": ".py",
   "mimetype": "text/x-python",
   "name": "python",
   "nbconvert_exporter": "python",
   "pygments_lexer": "ipython3",
   "version": "3.9.13"
  }
 },
 "nbformat": 4,
 "nbformat_minor": 2
}
