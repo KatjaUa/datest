{
 "cells": [
  {
   "cell_type": "code",
   "execution_count": 1,
   "metadata": {},
   "outputs": [
    {
     "name": "stdout",
     "output_type": "stream",
     "text": [
      "Yop\n"
     ]
    }
   ],
   "source": [
    "x = int(input(11))\n",
    "if x == 10:\n",
    "    print(\"Yep\")\n",
    "else:\n",
    "    print(\"Yop\")\n"
   ]
  },
  {
   "cell_type": "code",
   "execution_count": null,
   "metadata": {},
   "outputs": [
    {
     "name": "stdout",
     "output_type": "stream",
     "text": [
      "Yep\n"
     ]
    }
   ],
   "source": [
    "x = int(input(11))\n",
    "if x > 10:\n",
    "    print(\"Yep\")\n",
    "elif x > 10 and x < 15:\n",
    "    print(\"Yaya\")\n"
   ]
  },
  {
   "cell_type": "code",
   "execution_count": 5,
   "metadata": {},
   "outputs": [
    {
     "name": "stdout",
     "output_type": "stream",
     "text": [
      "Yep\n",
      "Meh\n"
     ]
    }
   ],
   "source": [
    "x = int(input(11))\n",
    "if x > 10:\n",
    "    print(\"Yep\")\n",
    "if x > 10 and x < 15:\n",
    "    print(\"Yaya\")\n",
    "else:\n",
    "    print(\"Meh\")\n"
   ]
  }
 ],
 "metadata": {
  "kernelspec": {
   "display_name": "Python 3",
   "language": "python",
   "name": "python3"
  },
  "language_info": {
   "codemirror_mode": {
    "name": "ipython",
    "version": 3
   },
   "file_extension": ".py",
   "mimetype": "text/x-python",
   "name": "python",
   "nbconvert_exporter": "python",
   "pygments_lexer": "ipython3",
   "version": "3.9.13"
  }
 },
 "nbformat": 4,
 "nbformat_minor": 2
}
