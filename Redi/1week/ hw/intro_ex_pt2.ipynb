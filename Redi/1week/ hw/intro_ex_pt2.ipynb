{
 "cells": [
  {
   "cell_type": "code",
   "execution_count": null,
   "metadata": {},
   "outputs": [],
   "source": [
    "# 2. For Loop\n",
    "# The for loop is used to iterate over a sequence (such as a list, tuple, or string).\n",
    "# For each item in the sequence, the loop runs the block of code.\n",
    "\n",
    "# Example: Looping through a list of numbers\n",
    "numbers = [1, 2, 3, 4, 5]\n",
    "\n",
    "for num in numbers:\n",
    "    print(\"Current number:\", num)"
   ]
  },
  {
   "cell_type": "code",
   "execution_count": null,
   "metadata": {},
   "outputs": [],
   "source": [
    "# Example: Looping through a range of numbers (0 to 4)\n",
    "for i in range(5):\n",
    "    print(\"i =\", i)"
   ]
  },
  {
   "cell_type": "code",
   "execution_count": null,
   "metadata": {},
   "outputs": [],
   "source": [
    "# Example: Looping through characters in a string\n",
    "word = \"Python\"\n",
    "for char in word:\n",
    "    print(\"Current character:\", char)"
   ]
  },
  {
   "cell_type": "code",
   "execution_count": null,
   "metadata": {},
   "outputs": [],
   "source": [
    "# Using the 'break' statement to exit a loop early:\n",
    "for i in range(10):\n",
    "    if i == 5:\n",
    "        print(\"Loop stops at i =\", i)\n",
    "        break  # Exits the loop when i == 5\n",
    "    print(i)\n"
   ]
  },
  {
   "cell_type": "code",
   "execution_count": null,
   "metadata": {},
   "outputs": [],
   "source": [
    "# Using the 'continue' statement to skip the rest of the loop and move to the next iteration:\n",
    "for i in range(5):\n",
    "    if i == 3:\n",
    "        print(\"Skipping i =\", i)\n",
    "        continue  # Skips the current iteration when i == 3\n",
    "    print(i)\n"
   ]
  },
  {
   "cell_type": "code",
   "execution_count": null,
   "metadata": {},
   "outputs": [],
   "source": [
    "# 3. While Loop\n",
    "# The while loop runs as long as a given condition is True.\n",
    "# It checks the condition at the start of each iteration and continues until the condition becomes False.\n",
    "\n",
    "# Example: Counting down from 5 to 1\n",
    "count = 5\n",
    "while count > 0:\n",
    "    print(\"Count is:\", count)\n",
    "    count -= 1  # Decrease count by 1 on each iteration\n",
    "\n",
    "print(\"Countdown finished!\")"
   ]
  },
  {
   "cell_type": "code",
   "execution_count": null,
   "metadata": {},
   "outputs": [],
   "source": [
    "# Example: Infinite loop (be careful with this type of loop!):\n",
    "# Uncomment the code below to see it in action, but it will keep running indefinitely:\n",
    "# while True:\n",
    "#     print(\"This is an infinite loop!\")\n",
    "#     break  # You can use 'break' to stop the loop.\n",
    "\n",
    "# Example: Using 'break' to exit a while loop\n",
    "count = 0\n",
    "while count < 10:\n",
    "    print(\"Count is:\", count)\n",
    "    if count == 5:\n",
    "        print(\"Stopping the loop.\")\n",
    "        break  # Exits the loop when count reaches 5\n",
    "    count += 1  # Increments count by 1"
   ]
  },
  {
   "cell_type": "code",
   "execution_count": null,
   "metadata": {},
   "outputs": [],
   "source": [
    "\n",
    "# Using 'continue' in a while loop to skip an iteration\n",
    "count = 0\n",
    "while count < 5:\n",
    "    count += 1\n",
    "    if count == 3:\n",
    "        print(\"Skipping count =\", count)\n",
    "        continue  # Skips the rest of the code when count == 3\n",
    "    print(\"Current count:\", count)"
   ]
  }
 ],
 "metadata": {
  "kernelspec": {
   "display_name": "Python 3",
   "language": "python",
   "name": "python3"
  },
  "language_info": {
   "codemirror_mode": {
    "name": "ipython",
    "version": 3
   },
   "file_extension": ".py",
   "mimetype": "text/x-python",
   "name": "python",
   "nbconvert_exporter": "python",
   "pygments_lexer": "ipython3",
   "version": "3.12.4"
  }
 },
 "nbformat": 4,
 "nbformat_minor": 2
}
